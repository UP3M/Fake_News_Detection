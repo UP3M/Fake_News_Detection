{
  "cells": [
    {
      "cell_type": "markdown",
      "metadata": {
        "id": "tKetv1k1nqUo"
      },
      "source": [
        "##Team Member:\n",
        "### Made Oka Resia Wedamerta (m.wedamerta@innopolis.university)\n",
        "### Mahmoud Mousatat (m.mousatat@innopolis.university)"
      ]
    },
    {
      "cell_type": "markdown",
      "metadata": {
        "id": "QT8105Lfo8r9"
      },
      "source": [
        "# Fake News Detection"
      ]
    },
    {
      "cell_type": "markdown",
      "metadata": {
        "id": "9bsJrGZirmc8"
      },
      "source": [
        "##Implementation TF-IDF\n",
        "\n",
        "TF-IDF (Term Frequency-Inverse Document Frequency) is a commonly used technique in natural language processing for representing text data as a vector of numerical features. TF-IDF is good for fake news detection because it can capture the important words and phrases that distinguish fake news from real news.\n",
        "\n",
        "TF-IDF works by assigning a weight to each word in a document based on its frequency in the document and its frequency in the corpus (collection of documents). Words that appear frequently in a document but rarely in the corpus are considered important and are assigned a high weight, while words that appear frequently in both the document and the corpus are considered less important and are assigned a low weight. This approach helps to identify words and phrases that are unique to a document and are therefore good indicators of its content.\n",
        "\n",
        "In the context of fake news detection, TF-IDF can be used to represent each news article as a vector of numerical features that capture the important words and phrases in the article. This vector can then be used as input to a machine learning algorithm for classification. By comparing the TF-IDF vectors of different news articles, we can identify the words and phrases that are most characteristic of fake news and use them to train a model to distinguish fake news from real news.\n",
        "\n",
        "Overall, TF-IDF is a powerful technique for analyzing text data and has been shown to be effective for fake news detection. However, it is important to note that TF-IDF alone may not be sufficient for detecting all instances of fake news, and additional features and techniques may be needed to improve the accuracy of the model."
      ]
    },
    {
      "cell_type": "code",
      "execution_count": null,
      "metadata": {
        "id": "G4oOtEP0nimP"
      },
      "outputs": [],
      "source": [
        "# Import relevant packages and modules\n",
        "from csv import DictReader\n",
        "from csv import DictWriter\n",
        "import numpy as np\n",
        "from sklearn.feature_extraction.text import CountVectorizer\n",
        "from sklearn.feature_extraction.text import TfidfTransformer\n",
        "from sklearn.feature_extraction.text import TfidfVectorizer\n",
        "from sklearn.metrics.pairwise import cosine_similarity\n",
        "import tensorflow as tf\n",
        "\n",
        "\n",
        "# Initialise global variables\n",
        "label_ref = {'agree': 0, 'disagree': 1, 'discuss': 2, 'unrelated': 3}\n",
        "label_ref_rev = {0: 'agree', 1: 'disagree', 2: 'discuss', 3: 'unrelated'}\n",
        "stop_words = [\n",
        "        \"a\", \"about\", \"above\", \"across\", \"after\", \"afterwards\", \"again\", \"against\", \"all\", \"almost\", \"alone\", \"along\",\n",
        "        \"already\", \"also\", \"although\", \"always\", \"am\", \"among\", \"amongst\", \"amoungst\", \"amount\", \"an\", \"and\", \"another\",\n",
        "        \"any\", \"anyhow\", \"anyone\", \"anything\", \"anyway\", \"anywhere\", \"are\", \"around\", \"as\", \"at\", \"back\", \"be\",\n",
        "        \"became\", \"because\", \"become\", \"becomes\", \"becoming\", \"been\", \"before\", \"beforehand\", \"behind\", \"being\",\n",
        "        \"below\", \"beside\", \"besides\", \"between\", \"beyond\", \"bill\", \"both\", \"bottom\", \"but\", \"by\", \"call\", \"can\", \"co\",\n",
        "        \"con\", \"could\", \"cry\", \"de\", \"describe\", \"detail\", \"do\", \"done\", \"down\", \"due\", \"during\", \"each\", \"eg\", \"eight\",\n",
        "        \"either\", \"eleven\", \"else\", \"elsewhere\", \"empty\", \"enough\", \"etc\", \"even\", \"ever\", \"every\", \"everyone\",\n",
        "        \"everything\", \"everywhere\", \"except\", \"few\", \"fifteen\", \"fifty\", \"fill\", \"find\", \"fire\", \"first\", \"five\", \"for\",\n",
        "        \"former\", \"formerly\", \"forty\", \"found\", \"four\", \"from\", \"front\", \"full\", \"further\", \"get\", \"give\", \"go\", \"had\",\n",
        "        \"has\", \"have\", \"he\", \"hence\", \"her\", \"here\", \"hereafter\", \"hereby\", \"herein\", \"hereupon\", \"hers\", \"herself\",\n",
        "        \"him\", \"himself\", \"his\", \"how\", \"however\", \"hundred\", \"i\", \"ie\", \"if\", \"in\", \"inc\", \"indeed\", \"interest\",\n",
        "        \"into\", \"is\", \"it\", \"its\", \"itself\", \"keep\", \"last\", \"latter\", \"latterly\", \"least\", \"less\", \"ltd\", \"made\",\n",
        "        \"many\", \"may\", \"me\", \"meanwhile\", \"might\", \"mill\", \"mine\", \"more\", \"moreover\", \"most\", \"mostly\", \"move\", \"much\",\n",
        "        \"must\", \"my\", \"myself\", \"name\", \"namely\", \"neither\", \"nevertheless\", \"next\", \"nine\", \"nobody\", \"now\", \"nowhere\",\n",
        "        \"of\", \"off\", \"often\", \"on\", \"once\", \"one\", \"only\", \"onto\", \"or\", \"other\", \"others\", \"otherwise\", \"our\", \"ours\",\n",
        "        \"ourselves\", \"out\", \"over\", \"own\", \"part\", \"per\", \"perhaps\", \"please\", \"put\", \"rather\", \"re\", \"same\", \"see\",\n",
        "        \"serious\", \"several\", \"she\", \"should\", \"show\", \"side\", \"since\", \"sincere\", \"six\", \"sixty\", \"so\", \"some\",\n",
        "        \"somehow\", \"someone\", \"something\", \"sometime\", \"sometimes\", \"somewhere\", \"still\", \"such\", \"system\", \"take\",\n",
        "        \"ten\", \"than\", \"that\", \"the\", \"their\", \"them\", \"themselves\", \"then\", \"thence\", \"there\", \"thereafter\", \"thereby\",\n",
        "        \"therefore\", \"therein\", \"thereupon\", \"these\", \"they\", \"thick\", \"thin\", \"third\", \"this\", \"those\", \"though\",\n",
        "        \"three\", \"through\", \"throughout\", \"thru\", \"thus\", \"to\", \"together\", \"too\", \"top\", \"toward\", \"towards\", \"twelve\",\n",
        "        \"twenty\", \"two\", \"un\", \"under\", \"until\", \"up\", \"upon\", \"us\", \"very\", \"via\", \"was\", \"we\", \"well\", \"were\", \"what\",\n",
        "        \"whatever\", \"when\", \"whence\", \"whenever\", \"where\", \"whereafter\", \"whereas\", \"whereby\", \"wherein\", \"whereupon\",\n",
        "        \"wherever\", \"whether\", \"which\", \"while\", \"whither\", \"who\", \"whoever\", \"whole\", \"whom\", \"whose\", \"why\", \"will\",\n",
        "        \"with\", \"within\", \"without\", \"would\", \"yet\", \"you\", \"your\", \"yours\", \"yourself\", \"yourselves\"\n",
        "        ]\n",
        "\n",
        "\n",
        "# Define data class\n",
        "class FNCData:\n",
        "\n",
        "    \"\"\"\n",
        "\n",
        "    Define class for Fake News Challenge data\n",
        "\n",
        "    \"\"\"\n",
        "\n",
        "    def __init__(self, file_instances, file_bodies):\n",
        "\n",
        "        # Load data\n",
        "        self.instances = self.read(file_instances)\n",
        "        bodies = self.read(file_bodies)\n",
        "        self.heads = {}\n",
        "        self.bodies = {}\n",
        "\n",
        "        # Process instances\n",
        "        for instance in self.instances:\n",
        "            if instance['Headline'] not in self.heads:\n",
        "                head_id = len(self.heads)\n",
        "                self.heads[instance['Headline']] = head_id\n",
        "            instance['Body ID'] = int(instance['Body ID'])\n",
        "\n",
        "        # Process bodies\n",
        "        for body in bodies:\n",
        "            self.bodies[int(body['Body ID'])] = body['articleBody']\n",
        "\n",
        "    def read(self, filename):\n",
        "\n",
        "        \"\"\"\n",
        "        Read Fake News Challenge data from CSV file\n",
        "\n",
        "        Args:\n",
        "            filename: str, filename + extension\n",
        "\n",
        "        Returns:\n",
        "            rows: list, of dict per instance\n",
        "\n",
        "        \"\"\"\n",
        "\n",
        "        # Initialise\n",
        "        rows = []\n",
        "\n",
        "        # Process file\n",
        "        with open(filename, \"r\", encoding='utf-8') as table:\n",
        "            r = DictReader(table)\n",
        "            for line in r:\n",
        "                rows.append(line)\n",
        "\n",
        "        return rows\n",
        "\n",
        "\n",
        "# Define relevant functions\n",
        "def pipeline_train(train, test, lim_unigram):\n",
        "\n",
        "    \"\"\"\n",
        "\n",
        "    Process train set, create relevant vectorizers\n",
        "\n",
        "    Args:\n",
        "        train: FNCData object, train set\n",
        "        test: FNCData object, test set\n",
        "        lim_unigram: int, number of most frequent words to consider\n",
        "\n",
        "    Returns:\n",
        "        train_set: list, of numpy arrays\n",
        "        train_stances: list, of ints\n",
        "        bow_vectorizer: sklearn CountVectorizer\n",
        "        tfreq_vectorizer: sklearn TfidfTransformer(use_idf=False)\n",
        "        tfidf_vectorizer: sklearn TfidfVectorizer()\n",
        "\n",
        "    \"\"\"\n",
        "\n",
        "    # Initialise\n",
        "    heads = []\n",
        "    heads_track = {}\n",
        "    bodies = []\n",
        "    bodies_track = {}\n",
        "    body_ids = []\n",
        "    id_ref = {}\n",
        "    train_set = []\n",
        "    train_stances = []\n",
        "    cos_track = {}\n",
        "    test_heads = []\n",
        "    test_heads_track = {}\n",
        "    test_bodies = []\n",
        "    test_bodies_track = {}\n",
        "    test_body_ids = []\n",
        "    head_tfidf_track = {}\n",
        "    body_tfidf_track = {}\n",
        "\n",
        "    # Identify unique heads and bodies\n",
        "    for instance in train.instances:\n",
        "        head = instance['Headline']\n",
        "        body_id = instance['Body ID']\n",
        "        if head not in heads_track:\n",
        "            heads.append(head)\n",
        "            heads_track[head] = 1\n",
        "        if body_id not in bodies_track:\n",
        "            bodies.append(train.bodies[body_id])\n",
        "            bodies_track[body_id] = 1\n",
        "            body_ids.append(body_id)\n",
        "\n",
        "    for instance in test.instances:\n",
        "        head = instance['Headline']\n",
        "        body_id = instance['Body ID']\n",
        "        if head not in test_heads_track:\n",
        "            test_heads.append(head)\n",
        "            test_heads_track[head] = 1\n",
        "        if body_id not in test_bodies_track:\n",
        "            test_bodies.append(test.bodies[body_id])\n",
        "            test_bodies_track[body_id] = 1\n",
        "            test_body_ids.append(body_id)\n",
        "\n",
        "    # Create reference dictionary\n",
        "    for i, elem in enumerate(heads + body_ids):\n",
        "        id_ref[elem] = i\n",
        "\n",
        "    # Create vectorizers and BOW and TF arrays for train set\n",
        "    bow_vectorizer = CountVectorizer(max_features=lim_unigram, stop_words=stop_words)\n",
        "    bow = bow_vectorizer.fit_transform(heads + bodies)  # Train set only\n",
        "\n",
        "    tfreq_vectorizer = TfidfTransformer(use_idf=False).fit(bow)\n",
        "    tfreq = tfreq_vectorizer.transform(bow).toarray()  # Train set only\n",
        "\n",
        "    tfidf_vectorizer = TfidfVectorizer(max_features=lim_unigram, stop_words=stop_words).\\\n",
        "        fit(heads + bodies + test_heads + test_bodies)  # Train and test sets\n",
        "\n",
        "    # Process train set\n",
        "    for instance in train.instances:\n",
        "        head = instance['Headline']\n",
        "        body_id = instance['Body ID']\n",
        "        head_tf = tfreq[id_ref[head]].reshape(1, -1)\n",
        "        body_tf = tfreq[id_ref[body_id]].reshape(1, -1)\n",
        "        if head not in head_tfidf_track:\n",
        "            head_tfidf = tfidf_vectorizer.transform([head]).toarray()\n",
        "            head_tfidf_track[head] = head_tfidf\n",
        "        else:\n",
        "            head_tfidf = head_tfidf_track[head]\n",
        "        if body_id not in body_tfidf_track:\n",
        "            body_tfidf = tfidf_vectorizer.transform([train.bodies[body_id]]).toarray()\n",
        "            body_tfidf_track[body_id] = body_tfidf\n",
        "        else:\n",
        "            body_tfidf = body_tfidf_track[body_id]\n",
        "        if (head, body_id) not in cos_track:\n",
        "            tfidf_cos = cosine_similarity(head_tfidf, body_tfidf)[0].reshape(1, 1)\n",
        "            cos_track[(head, body_id)] = tfidf_cos\n",
        "        else:\n",
        "            tfidf_cos = cos_track[(head, body_id)]\n",
        "        feat_vec = np.squeeze(np.c_[head_tf, body_tf, tfidf_cos])\n",
        "        train_set.append(feat_vec)\n",
        "        train_stances.append(label_ref[instance['Stance']])\n",
        "\n",
        "    return train_set, train_stances, bow_vectorizer, tfreq_vectorizer, tfidf_vectorizer\n",
        "\n",
        "\n",
        "def pipeline_test(test, bow_vectorizer, tfreq_vectorizer, tfidf_vectorizer):\n",
        "\n",
        "    \"\"\"\n",
        "\n",
        "    Process test set\n",
        "\n",
        "    Args:\n",
        "        test: FNCData object, test set\n",
        "        bow_vectorizer: sklearn CountVectorizer\n",
        "        tfreq_vectorizer: sklearn TfidfTransformer(use_idf=False)\n",
        "        tfidf_vectorizer: sklearn TfidfVectorizer()\n",
        "\n",
        "    Returns:\n",
        "        test_set: list, of numpy arrays\n",
        "\n",
        "    \"\"\"\n",
        "\n",
        "    # Initialise\n",
        "    test_set = []\n",
        "    heads_track = {}\n",
        "    bodies_track = {}\n",
        "    cos_track = {}\n",
        "\n",
        "    # Process test set\n",
        "    for instance in test.instances:\n",
        "        head = instance['Headline']\n",
        "        body_id = instance['Body ID']\n",
        "        if head not in heads_track:\n",
        "            head_bow = bow_vectorizer.transform([head]).toarray()\n",
        "            head_tf = tfreq_vectorizer.transform(head_bow).toarray()[0].reshape(1, -1)\n",
        "            head_tfidf = tfidf_vectorizer.transform([head]).toarray().reshape(1, -1)\n",
        "            heads_track[head] = (head_tf, head_tfidf)\n",
        "        else:\n",
        "            head_tf = heads_track[head][0]\n",
        "            head_tfidf = heads_track[head][1]\n",
        "        if body_id not in bodies_track:\n",
        "            body_bow = bow_vectorizer.transform([test.bodies[body_id]]).toarray()\n",
        "            body_tf = tfreq_vectorizer.transform(body_bow).toarray()[0].reshape(1, -1)\n",
        "            body_tfidf = tfidf_vectorizer.transform([test.bodies[body_id]]).toarray().reshape(1, -1)\n",
        "            bodies_track[body_id] = (body_tf, body_tfidf)\n",
        "        else:\n",
        "            body_tf = bodies_track[body_id][0]\n",
        "            body_tfidf = bodies_track[body_id][1]\n",
        "        if (head, body_id) not in cos_track:\n",
        "            tfidf_cos = cosine_similarity(head_tfidf, body_tfidf)[0].reshape(1, 1)\n",
        "            cos_track[(head, body_id)] = tfidf_cos\n",
        "        else:\n",
        "            tfidf_cos = cos_track[(head, body_id)]\n",
        "        feat_vec = np.squeeze(np.c_[head_tf, body_tf, tfidf_cos])\n",
        "        test_set.append(feat_vec)\n",
        "\n",
        "    return test_set\n",
        "\n",
        "\n",
        "def load_model(sess):\n",
        "\n",
        "    \"\"\"\n",
        "\n",
        "    Load TensorFlow model\n",
        "\n",
        "    Args:\n",
        "        sess: TensorFlow session\n",
        "\n",
        "    \"\"\"\n",
        "\n",
        "    saver = tf.train.Saver()\n",
        "    saver.restore(sess, './model/model.checkpoint')\n",
        "\n",
        "\n",
        "def save_predictions(pred, file):\n",
        "\n",
        "    \"\"\"\n",
        "\n",
        "    Save predictions to CSV file\n",
        "\n",
        "    Args:\n",
        "        pred: numpy array, of numeric predictions\n",
        "        file: str, filename + extension\n",
        "\n",
        "    \"\"\"\n",
        "\n",
        "    with open(file, 'w') as csvfile:\n",
        "        fieldnames = ['Stance']\n",
        "        writer = DictWriter(csvfile, fieldnames=fieldnames)\n",
        "\n",
        "        writer.writeheader()\n",
        "        for instance in pred:\n",
        "            writer.writerow({'Stance': label_ref_rev[instance]})"
      ]
    },
    {
      "cell_type": "code",
      "execution_count": null,
      "metadata": {
        "id": "NxCPnyZ9FYEF"
      },
      "outputs": [],
      "source": [
        "!pip install tensorflow"
      ]
    },
    {
      "cell_type": "code",
      "execution_count": null,
      "metadata": {
        "id": "LqcCGxqZ0W_b"
      },
      "outputs": [],
      "source": [
        "# Import relevant packages and modules\n",
        "#from util import *\n",
        "import random\n",
        "#import tensorflow as tf\n",
        "import tensorflow as tf\n",
        "tf.compat.v1.disable_eager_execution()\n",
        "\n",
        "# Set file names\n",
        "file_train_instances = \"train_stances.csv\"\n",
        "file_train_bodies = \"train_bodies.csv\"\n",
        "file_test_instances = \"test_stances_unlabeled.csv\"\n",
        "file_test_bodies = \"test_bodies.csv\"\n",
        "file_predictions = 'predictions_test.csv'\n",
        "\n",
        "\n",
        "# Initialise hyperparameters\n",
        "r = random.Random()\n",
        "lim_unigram = 5000\n",
        "target_size = 4\n",
        "hidden_size = 100\n",
        "train_keep_prob = 0.6\n",
        "l2_alpha = 0.00001\n",
        "learn_rate = 0.01\n",
        "clip_ratio = 5\n",
        "batch_size_train = 500\n",
        "epochs = 90\n",
        "\n",
        "\n",
        "# Load data sets\n",
        "raw_train = FNCData(file_train_instances, file_train_bodies)\n",
        "raw_test = FNCData(file_test_instances, file_test_bodies)\n",
        "n_train = len(raw_train.instances)\n",
        "\n",
        "# Process data sets\n",
        "train_set, train_stances, bow_vectorizer, tfreq_vectorizer, tfidf_vectorizer = \\\n",
        "    pipeline_train(raw_train, raw_test, lim_unigram=lim_unigram)\n",
        "feature_size = len(train_set[0])\n",
        "test_set = pipeline_test(raw_test, bow_vectorizer, tfreq_vectorizer, tfidf_vectorizer)"
      ]
    },
    {
      "cell_type": "code",
      "execution_count": null,
      "metadata": {
        "id": "mAVtUCQTpMfE"
      },
      "outputs": [],
      "source": [
        "# Define model\n",
        "\n",
        "# Create placeholders\n",
        "features_pl = tf.compat.v1.placeholder(tf.float32, [None, feature_size], 'features')\n",
        "stances_pl = tf.compat.v1.placeholder(tf.int64, [None], 'stances')\n",
        "keep_prob_pl = tf.compat.v1.placeholder(tf.float32)\n",
        "\n",
        "# Infer batch size\n",
        "batch_size = tf.shape(features_pl)[0]\n",
        "\n",
        "# Define multi-layer perceptron\n",
        "hidden_layer = tf.keras.layers.Dropout(rate=1-keep_prob_pl)(\n",
        "               tf.keras.layers.Dense(units=hidden_size, activation='relu')(features_pl))\n",
        "logits_flat = tf.keras.layers.Dropout(rate=1-keep_prob_pl)(\n",
        "              tf.keras.layers.Dense(units=target_size)(hidden_layer))\n",
        "logits = tf.reshape(logits_flat, [batch_size, target_size])\n",
        "\n",
        "# Define L2 loss\n",
        "tf_vars = tf.compat.v1.trainable_variables()\n",
        "l2_loss = tf.add_n([tf.nn.l2_loss(v) for v in tf_vars if 'bias' not in v.name]) * l2_alpha\n",
        "\n",
        "# Define overall loss\n",
        "loss = tf.reduce_sum(tf.nn.sparse_softmax_cross_entropy_with_logits(logits=logits, labels=stances_pl) + l2_loss)\n",
        "\n",
        "# Define prediction\n",
        "softmaxed_logits = tf.nn.softmax(logits)\n",
        "predict = tf.argmax(softmaxed_logits, axis=1)\n",
        "\n",
        "\n",
        "# Define optimiser\n",
        "opt_func = tf.optimizers.Adam(learn_rate)\n",
        "grads, _ = tf.clip_by_global_norm(tf.gradients(loss, tf_vars), clip_ratio)\n",
        "opt_op = opt_func.apply_gradients(zip(grads, tf_vars))\n",
        "\n",
        "# Perform training\n",
        "with tf.compat.v1.Session() as sess:\n",
        "    sess.run(tf.compat.v1.global_variables_initializer())\n",
        "\n",
        "    for epoch in range(epochs):\n",
        "        total_loss = 0\n",
        "        indices = list(range(n_train))\n",
        "        r.shuffle(indices)\n",
        "\n",
        "        for i in range(n_train // batch_size_train):\n",
        "            batch_indices = indices[i * batch_size_train: (i + 1) * batch_size_train]\n",
        "            batch_features = [train_set[i] for i in batch_indices]\n",
        "            batch_stances = [train_stances[i] for i in batch_indices]\n",
        "\n",
        "            batch_feed_dict = {features_pl: batch_features, stances_pl: batch_stances, keep_prob_pl: train_keep_prob}\n",
        "            _, current_loss = sess.run([opt_op, loss], feed_dict=batch_feed_dict)\n",
        "            total_loss += current_loss\n",
        "\n",
        "\n",
        "    # Predict\n",
        "    test_feed_dict = {features_pl: test_set, keep_prob_pl: 1.0}\n",
        "    test_pred = sess.run(predict, feed_dict=test_feed_dict)\n",
        "\n",
        "# Save predictions\n",
        "save_predictions(test_pred, file_predictions)"
      ]
    },
    {
      "cell_type": "code",
      "execution_count": null,
      "metadata": {
        "colab": {
          "base_uri": "https://localhost:8080/"
        },
        "id": "ODDiQBowb-Hs",
        "outputId": "f7b7beda-f431-4871-93f6-20eece308a59"
      },
      "outputs": [
        {
          "name": "stdout",
          "output_type": "stream",
          "text": [
            "Tensor(\"strided_slice_1:0\", shape=(10001,), dtype=float32)\n"
          ]
        }
      ],
      "source": [
        "#for loop for getting first key\n",
        "for new_s, new_val in test_feed_dict.items():\n",
        "#print first key\n",
        "    print(new_s[100])\n",
        "#after getting first key break loop\n",
        "    break"
      ]
    },
    {
      "cell_type": "code",
      "execution_count": null,
      "metadata": {
        "id": "-6k4Y74AsgdT"
      },
      "outputs": [],
      "source": [
        "with tf.compat.v1.Session() as sess:\n",
        "        sess.run(tf.compat.v1.global_variables_initializer())\n",
        "        test_pscore = sess.run(softmaxed_logits, feed_dict=test_feed_dict)\n",
        "\n"
      ]
    },
    {
      "cell_type": "code",
      "execution_count": null,
      "metadata": {
        "colab": {
          "base_uri": "https://localhost:8080/"
        },
        "id": "55vZ9CZEs73f",
        "outputId": "e549eac3-88fb-4515-b0a4-e87fc469adfa"
      },
      "outputs": [
        {
          "name": "stdout",
          "output_type": "stream",
          "text": [
            "0 [0.2520224  0.24894506 0.24975081 0.24928176]\n",
            "3 [0.24844219 0.24279252 0.25437978 0.2543855 ]\n",
            "0 [0.2575163  0.24448375 0.25269586 0.24530405]\n",
            "2 [0.24764878 0.24762788 0.25366843 0.25105494]\n",
            "2 [0.24863455 0.24191777 0.26017186 0.2492758 ]\n",
            "2 [0.25406218 0.24059764 0.25410044 0.25123972]\n",
            "1 [0.25122237 0.2533599  0.2501127  0.24530502]\n",
            "2 [0.25414005 0.24479373 0.25605902 0.24500719]\n",
            "2 [0.24949111 0.2455555  0.25270513 0.2522483 ]\n",
            "2 [0.24834642 0.2485668  0.25177938 0.25130737]\n"
          ]
        }
      ],
      "source": [
        "for i in range(10):print(test_pred[i],test_pscore[i])"
      ]
    },
    {
      "cell_type": "code",
      "execution_count": null,
      "metadata": {
        "colab": {
          "base_uri": "https://localhost:8080/"
        },
        "id": "hXdf28WN4ZHC",
        "outputId": "2b1a0179-e2e9-4acd-ef48-e6aed64199a7"
      },
      "outputs": [
        {
          "name": "stdout",
          "output_type": "stream",
          "text": [
            "0        unrelated\n",
            "1        unrelated\n",
            "2        unrelated\n",
            "3        unrelated\n",
            "4        unrelated\n",
            "           ...    \n",
            "25408        agree\n",
            "25409      discuss\n",
            "25410     disagree\n",
            "25411     disagree\n",
            "25412        agree\n",
            "Name: Stance, Length: 25413, dtype: object 0            agree\n",
            "1        unrelated\n",
            "2            agree\n",
            "3          discuss\n",
            "4          discuss\n",
            "           ...    \n",
            "25408    unrelated\n",
            "25409    unrelated\n",
            "25410      discuss\n",
            "25411    unrelated\n",
            "25412      discuss\n",
            "Name: Stance, Length: 25413, dtype: object\n"
          ]
        },
        {
          "data": {
            "text/plain": [
              "0.26281824263172393"
            ]
          },
          "execution_count": 10,
          "metadata": {},
          "output_type": "execute_result"
        }
      ],
      "source": [
        "from sklearn.metrics import accuracy_score\n",
        "import pandas as pd\n",
        "\n",
        "y_pred = pd.read_csv(\"predictions_test.csv\")\n",
        "y_pred = y_pred['Stance']\n",
        "\n",
        "y_true = pd.read_csv(\"true_test_stances.csv\")\n",
        "y_true = y_true['Stance']\n",
        "\n",
        "print(y_true, y_pred)\n",
        "accuracy_score(y_true, y_pred)"
      ]
    },
    {
      "cell_type": "markdown",
      "source": [
        "##1D-CNN\n"
      ],
      "metadata": {
        "id": "iU-D3t1WADy5"
      }
    },
    {
      "cell_type": "markdown",
      "metadata": {
        "id": "i-6Tn2XJCF0n"
      },
      "source": [
        "### Implementation of deep learning model"
      ]
    },
    {
      "cell_type": "markdown",
      "metadata": {
        "id": "8NAW1SCUCYMu"
      },
      "source": [
        "This model's design was chosen because it is simple to use and allows for quick calculation since convolutions may be used in place of recurrence. Convolutions appear to be able to capture a wide range of themes, based on the relative strength of this model; however, the model is constrained in that it only gets to view the text once. Adding an attention mechanism with recurrence after the convolutions, which would enable the model to query specific elements of the headline/body after getting a broad summary from CNN, might be a viable enhancement to this model.\n"
      ]
    },
    {
      "cell_type": "markdown",
      "metadata": {
        "id": "QMiZCEL1CZiO"
      },
      "source": [
        "![image.png](data:image/png;base64,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)"
      ]
    },
    {
      "cell_type": "markdown",
      "metadata": {
        "id": "2VbXatEPCgWg"
      },
      "source": [
        "CNNS ENABLE EFFICIENT, EFFECTIVE PARALLEL COMPUTATION WHILE PERFORMING THIS CNN'S OUTPUT IS THEN SENT TO AN MULTI-LAYER PERCEPTRON (MLP) WITH 4-CLASS OUTPUT — \"AGREE,\" \"DISAGREE,\" \"DISCUSS,\" AND \"UNRELATED\" — AND TRAINED END-TO-END. ALL CONVOLUTIONAL LAYERS USED DROPOUT (P=.5) TO REGULARIZE THE MODEL. Nevertheless, none of the model's hyperparameters were further evaluated to identify better options; instead, they were all set to sensible defaults."
      ]
    },
    {
      "cell_type": "code",
      "source": [
        "!pip install keras"
      ],
      "metadata": {
        "colab": {
          "base_uri": "https://localhost:8080/"
        },
        "id": "RflbmpT2ZHel",
        "outputId": "83dc1bdb-6eea-4659-e59a-90e8617acccd"
      },
      "execution_count": null,
      "outputs": [
        {
          "output_type": "stream",
          "name": "stdout",
          "text": [
            "Looking in indexes: https://pypi.org/simple, https://us-python.pkg.dev/colab-wheels/public/simple/\n",
            "Requirement already satisfied: keras in /usr/local/lib/python3.9/dist-packages (2.12.0)\n"
          ]
        }
      ]
    },
    {
      "cell_type": "code",
      "source": [
        "import pandas as pd\n",
        "import numpy as np\n",
        "import keras\n",
        "from keras.preprocessing.text import Tokenizer\n",
        "from keras.utils import pad_sequences\n",
        "from keras.layers import Dense, Input, Flatten, Dropout, Activation\n",
        "from keras.layers import Conv1D, MaxPooling1D, Embedding, concatenate\n",
        "from keras.models import Model\n",
        "from keras.utils import to_categorical\n"
      ],
      "metadata": {
        "id": "Q9FKqKjf8NAH"
      },
      "execution_count": null,
      "outputs": []
    },
    {
      "cell_type": "code",
      "source": [
        "# Load the data into a Pandas dataframe.\n",
        "df_content = pd.read_csv('train_bodies.csv')\n",
        "df_headline = pd.read_csv('train_stances.csv')\n",
        "\n",
        "df = pd.merge(df_content, df_headline, on=\"Body ID\")"
      ],
      "metadata": {
        "id": "DyfZ9ar28RWi"
      },
      "execution_count": null,
      "outputs": []
    },
    {
      "cell_type": "code",
      "source": [
        "import json\n",
        "\n",
        "MAX_NB_WORDS = 50000\n",
        "MAX_SEQUENCE_LENGTH = 250\n",
        "\n",
        "tokenizer = Tokenizer(num_words=MAX_NB_WORDS)\n",
        "tokenizer.fit_on_texts(df['Headline'].values)\n",
        "word_index = tokenizer.word_index\n",
        "X_headline = tokenizer.texts_to_sequences(df['Headline'].values)\n",
        "X_headline = pad_sequences(X_headline, maxlen=MAX_SEQUENCE_LENGTH)\n",
        "\n",
        "# Save the tokenizer to a file\n",
        "with open('tokenizer_head.json', 'w', encoding='utf-8') as f:\n",
        "    f.write(tokenizer.to_json())\n",
        "\n",
        "tokenizer = Tokenizer(num_words=MAX_NB_WORDS)\n",
        "tokenizer.fit_on_texts(df['articleBody'].values)\n",
        "word_index = tokenizer.word_index\n",
        "X_article = tokenizer.texts_to_sequences(df['articleBody'].values)\n",
        "X_article = pad_sequences(X_article, maxlen=MAX_SEQUENCE_LENGTH)\n",
        "\n",
        "with open('tokenizer_body.json', 'w', encoding='utf-8') as f:\n",
        "    f.write(tokenizer.to_json())\n",
        "\n",
        "Y = pd.get_dummies(df['Stance']).values\n"
      ],
      "metadata": {
        "id": "N91bboVl8oaG"
      },
      "execution_count": null,
      "outputs": []
    },
    {
      "cell_type": "code",
      "source": [
        "df['Stance']"
      ],
      "metadata": {
        "colab": {
          "base_uri": "https://localhost:8080/"
        },
        "id": "aXrznBEntHai",
        "outputId": "c59ecd07-e132-4964-b169-6e9b0b52e146"
      },
      "execution_count": null,
      "outputs": [
        {
          "output_type": "execute_result",
          "data": {
            "text/plain": [
              "0        unrelated\n",
              "1        unrelated\n",
              "2        unrelated\n",
              "3        unrelated\n",
              "4        unrelated\n",
              "           ...    \n",
              "49967        agree\n",
              "49968        agree\n",
              "49969        agree\n",
              "49970        agree\n",
              "49971        agree\n",
              "Name: Stance, Length: 49972, dtype: object"
            ]
          },
          "metadata": {},
          "execution_count": 24
        }
      ]
    },
    {
      "cell_type": "code",
      "source": [
        "Y[49971]"
      ],
      "metadata": {
        "colab": {
          "base_uri": "https://localhost:8080/"
        },
        "id": "bXpMKIBitAY7",
        "outputId": "440aa5cc-ee66-455a-def1-248864b8eeef"
      },
      "execution_count": null,
      "outputs": [
        {
          "output_type": "execute_result",
          "data": {
            "text/plain": [
              "array([0, 0, 0, 1], dtype=uint8)"
            ]
          },
          "metadata": {},
          "execution_count": 27
        }
      ]
    },
    {
      "cell_type": "code",
      "source": [
        "VALIDATION_SPLIT = 0.2\n",
        "\n",
        "indices = np.arange(X_headline.shape[0])\n",
        "np.random.shuffle(indices)\n",
        "X_headline = X_headline[indices]\n",
        "X_article = X_article[indices]\n",
        "Y = Y[indices]\n",
        "nb_validation_samples = int(VALIDATION_SPLIT * X_headline.shape[0])\n",
        "\n",
        "x_headline_train = X_headline[:-nb_validation_samples]\n",
        "x_article_train = X_article[:-nb_validation_samples]\n",
        "y_train = Y[:-nb_validation_samples]\n",
        "x_headline_test = X_headline[-nb_validation_samples:]\n",
        "x_article_test = X_article[-nb_validation_samples:]\n",
        "y_test = Y[-nb_validation_samples:]\n"
      ],
      "metadata": {
        "id": "Lb3YYQ0bWUM9"
      },
      "execution_count": null,
      "outputs": []
    },
    {
      "cell_type": "code",
      "source": [
        "EMBEDDING_DIM = 100\n",
        "N_FILTERS = 128\n",
        "FILTER_SIZE = 5\n",
        "POOL_SIZE = 4\n",
        "EPOCHS = 5\n",
        "BATCH_SIZE = 32\n",
        "\n",
        "input_headline = Input(shape=(MAX_SEQUENCE_LENGTH,), dtype='int32')\n",
        "embedding_headline = Embedding(MAX_NB_WORDS, EMBEDDING_DIM, input_length=MAX_SEQUENCE_LENGTH)(input_headline)\n",
        "conv_headline = Conv1D(N_FILTERS, FILTER_SIZE, activation='relu')(embedding_headline)\n",
        "pool_headline = MaxPooling1D(POOL_SIZE)(conv_headline)\n",
        "flatten_headline = Flatten()(pool_headline)\n",
        "\n",
        "input_article = Input(shape=(MAX_SEQUENCE_LENGTH,), dtype='int32')\n",
        "embedding_article = Embedding(MAX_NB_WORDS, EMBEDDING_DIM, input_length=MAX_SEQUENCE_LENGTH)(input_article)\n",
        "conv_article = Conv1D(N_FILTERS, FILTER_SIZE, activation='relu')(embedding_article)\n",
        "pool_article = MaxPooling1D(POOL_SIZE)(conv_article)\n",
        "flatten_article = Flatten()(pool_article)\n",
        "\n",
        "merged = concatenate([flatten_headline, flatten_article])\n",
        "dropout_layer = Dropout(0.5)(merged)\n",
        "outputs = Dense(Y.shape[1], activation='softmax')(dropout_layer)\n",
        "\n",
        "model = Model(inputs=[input_headline, input_article], outputs=outputs)\n",
        "model.compile(loss='categorical_crossentropy', optimizer='adam', metrics=['accuracy'])\n",
        "\n",
        "print(model.summary())\n",
        "\n",
        "history = model.fit(x=[x_headline_train, x_article_train], y=y_train, validation_data=([x_headline_test, x_article_test], y_test), epochs=EPOCHS, batch_size=BATCH_SIZE)\n"
      ],
      "metadata": {
        "id": "1Oj6qVNPWaRx",
        "colab": {
          "base_uri": "https://localhost:8080/"
        },
        "outputId": "7a0559c0-5c5a-4210-8839-477fcc9409f9"
      },
      "execution_count": null,
      "outputs": [
        {
          "output_type": "stream",
          "name": "stdout",
          "text": [
            "Model: \"model\"\n",
            "__________________________________________________________________________________________________\n",
            " Layer (type)                   Output Shape         Param #     Connected to                     \n",
            "==================================================================================================\n",
            " input_1 (InputLayer)           [(None, 250)]        0           []                               \n",
            "                                                                                                  \n",
            " input_2 (InputLayer)           [(None, 250)]        0           []                               \n",
            "                                                                                                  \n",
            " embedding (Embedding)          (None, 250, 100)     5000000     ['input_1[0][0]']                \n",
            "                                                                                                  \n",
            " embedding_1 (Embedding)        (None, 250, 100)     5000000     ['input_2[0][0]']                \n",
            "                                                                                                  \n",
            " conv1d (Conv1D)                (None, 246, 128)     64128       ['embedding[0][0]']              \n",
            "                                                                                                  \n",
            " conv1d_1 (Conv1D)              (None, 246, 128)     64128       ['embedding_1[0][0]']            \n",
            "                                                                                                  \n",
            " max_pooling1d (MaxPooling1D)   (None, 61, 128)      0           ['conv1d[0][0]']                 \n",
            "                                                                                                  \n",
            " max_pooling1d_1 (MaxPooling1D)  (None, 61, 128)     0           ['conv1d_1[0][0]']               \n",
            "                                                                                                  \n",
            " flatten (Flatten)              (None, 7808)         0           ['max_pooling1d[0][0]']          \n",
            "                                                                                                  \n",
            " flatten_1 (Flatten)            (None, 7808)         0           ['max_pooling1d_1[0][0]']        \n",
            "                                                                                                  \n",
            " concatenate (Concatenate)      (None, 15616)        0           ['flatten[0][0]',                \n",
            "                                                                  'flatten_1[0][0]']              \n",
            "                                                                                                  \n",
            " dropout (Dropout)              (None, 15616)        0           ['concatenate[0][0]']            \n",
            "                                                                                                  \n",
            " dense (Dense)                  (None, 4)            62468       ['dropout[0][0]']                \n",
            "                                                                                                  \n",
            "==================================================================================================\n",
            "Total params: 10,190,724\n",
            "Trainable params: 10,190,724\n",
            "Non-trainable params: 0\n",
            "__________________________________________________________________________________________________\n",
            "None\n",
            "Epoch 1/5\n",
            "1250/1250 [==============================] - 344s 274ms/step - loss: 0.5946 - accuracy: 0.7818 - val_loss: 0.5195 - val_accuracy: 0.8074\n",
            "Epoch 2/5\n",
            "1250/1250 [==============================] - 342s 273ms/step - loss: 0.4612 - accuracy: 0.8254 - val_loss: 0.4851 - val_accuracy: 0.8109\n",
            "Epoch 3/5\n",
            "1250/1250 [==============================] - 335s 268ms/step - loss: 0.4238 - accuracy: 0.8361 - val_loss: 0.4782 - val_accuracy: 0.8235\n",
            "Epoch 4/5\n",
            "1250/1250 [==============================] - 357s 286ms/step - loss: 0.4025 - accuracy: 0.8427 - val_loss: 0.4696 - val_accuracy: 0.8264\n",
            "Epoch 5/5\n",
            "1250/1250 [==============================] - 343s 274ms/step - loss: 0.3897 - accuracy: 0.8452 - val_loss: 0.4721 - val_accuracy: 0.8281\n"
          ]
        }
      ]
    },
    {
      "cell_type": "code",
      "source": [
        "score, acc = model.evaluate([x_headline_test, x_article_test], y_test, batch_size=BATCH_SIZE)\n",
        "print('Test score:', score)\n",
        "print('Test accuracy:', acc)\n"
      ],
      "metadata": {
        "id": "J1MzlqI5WbzJ",
        "colab": {
          "base_uri": "https://localhost:8080/"
        },
        "outputId": "a46f6c87-b2d8-4a8e-b5a7-2dd55ad550d7"
      },
      "execution_count": null,
      "outputs": [
        {
          "output_type": "stream",
          "name": "stdout",
          "text": [
            "313/313 [==============================] - 14s 45ms/step - loss: 0.4721 - accuracy: 0.8281\n",
            "Test score: 0.4720973074436188\n",
            "Test accuracy: 0.828096866607666\n"
          ]
        }
      ]
    },
    {
      "cell_type": "code",
      "source": [
        "# Save the entire model as a SavedModel.\n",
        "!mkdir -p saved_model\n",
        "model.save('saved_model/cnn_pretrain')"
      ],
      "metadata": {
        "colab": {
          "base_uri": "https://localhost:8080/"
        },
        "id": "r82-UMZiaTLH",
        "outputId": "53c7bb1f-b967-48e1-f36a-2c5a2c3db12d"
      },
      "execution_count": null,
      "outputs": [
        {
          "output_type": "stream",
          "name": "stderr",
          "text": [
            "WARNING:absl:Found untraced functions such as _jit_compiled_convolution_op, _jit_compiled_convolution_op, _update_step_xla while saving (showing 3 of 3). These functions will not be directly callable after loading.\n"
          ]
        }
      ]
    },
    {
      "cell_type": "code",
      "source": [
        "import tensorflow as tf\n",
        "from tensorflow import keras\n",
        "new_model = tf.keras.models.load_model('saved_model/cnn_pretrain')\n",
        "\n",
        "# Check its architecture\n",
        "new_model.summary()"
      ],
      "metadata": {
        "colab": {
          "base_uri": "https://localhost:8080/"
        },
        "id": "RL5VLNyudiry",
        "outputId": "5147d664-83a1-423b-9415-b160ec8fc842"
      },
      "execution_count": null,
      "outputs": [
        {
          "output_type": "stream",
          "name": "stdout",
          "text": [
            "Model: \"model\"\n",
            "__________________________________________________________________________________________________\n",
            " Layer (type)                   Output Shape         Param #     Connected to                     \n",
            "==================================================================================================\n",
            " input_1 (InputLayer)           [(None, 250)]        0           []                               \n",
            "                                                                                                  \n",
            " input_2 (InputLayer)           [(None, 250)]        0           []                               \n",
            "                                                                                                  \n",
            " embedding (Embedding)          (None, 250, 100)     5000000     ['input_1[0][0]']                \n",
            "                                                                                                  \n",
            " embedding_1 (Embedding)        (None, 250, 100)     5000000     ['input_2[0][0]']                \n",
            "                                                                                                  \n",
            " conv1d (Conv1D)                (None, 246, 128)     64128       ['embedding[0][0]']              \n",
            "                                                                                                  \n",
            " conv1d_1 (Conv1D)              (None, 246, 128)     64128       ['embedding_1[0][0]']            \n",
            "                                                                                                  \n",
            " max_pooling1d (MaxPooling1D)   (None, 61, 128)      0           ['conv1d[0][0]']                 \n",
            "                                                                                                  \n",
            " max_pooling1d_1 (MaxPooling1D)  (None, 61, 128)     0           ['conv1d_1[0][0]']               \n",
            "                                                                                                  \n",
            " flatten (Flatten)              (None, 7808)         0           ['max_pooling1d[0][0]']          \n",
            "                                                                                                  \n",
            " flatten_1 (Flatten)            (None, 7808)         0           ['max_pooling1d_1[0][0]']        \n",
            "                                                                                                  \n",
            " concatenate (Concatenate)      (None, 15616)        0           ['flatten[0][0]',                \n",
            "                                                                  'flatten_1[0][0]']              \n",
            "                                                                                                  \n",
            " dropout (Dropout)              (None, 15616)        0           ['concatenate[0][0]']            \n",
            "                                                                                                  \n",
            " dense (Dense)                  (None, 4)            62468       ['dropout[0][0]']                \n",
            "                                                                                                  \n",
            "==================================================================================================\n",
            "Total params: 10,190,724\n",
            "Trainable params: 10,190,724\n",
            "Non-trainable params: 0\n",
            "__________________________________________________________________________________________________\n"
          ]
        }
      ]
    },
    {
      "cell_type": "code",
      "source": [
        "from google.colab import drive\n",
        "drive.mount('/content/drive')"
      ],
      "metadata": {
        "colab": {
          "base_uri": "https://localhost:8080/"
        },
        "id": "Yir6wol3n1GG",
        "outputId": "c8563fbc-afb4-4903-ba6e-598d02f05964"
      },
      "execution_count": null,
      "outputs": [
        {
          "output_type": "stream",
          "name": "stdout",
          "text": [
            "Mounted at /content/drive\n"
          ]
        }
      ]
    },
    {
      "cell_type": "code",
      "source": [
        "!cp -r \"/content/saved_model\" \"/content/drive/MyDrive/cnn_pretrain\""
      ],
      "metadata": {
        "id": "Qm8qFUyEf0wg"
      },
      "execution_count": null,
      "outputs": []
    },
    {
      "cell_type": "code",
      "source": [
        "# # Evaluate the restored model\n",
        "# loss, acc = new_model.evaluate(test_images, test_labels, verbose=2)\n",
        "# print('Restored model, accuracy: {:5.2f}%'.format(100 * acc))\n",
        "\n",
        "# print(new_model.predict(test_images).shape)"
      ],
      "metadata": {
        "id": "xVV4efAHd621"
      },
      "execution_count": null,
      "outputs": []
    },
    {
      "cell_type": "code",
      "source": [
        "new_headline = \"Study finds that coffee is good for your health\"\n",
        "new_article = \"A new study has found that drinking coffee can reduce the risk of heart disease and liver cancer. The study, which was published in the Journal of the American Medical Association, followed over 500,000 people for over 10 years. The researchers found that people who drank 3 to 5 cups of coffee per day had a 15% lower risk of heart disease and a 27% lower risk of liver cancer compared to those who didn't drink coffee. The study also found that decaffeinated coffee had similar health benefits as regular coffee.\""
      ],
      "metadata": {
        "id": "ZrGnOuUO7bNb"
      },
      "execution_count": null,
      "outputs": []
    },
    {
      "cell_type": "code",
      "source": [
        "import json\n",
        "from keras.preprocessing.text import tokenizer_from_json\n",
        "\n",
        "# Load the tokenizer from file\n",
        "with open('tokenizer_head.json', 'r', encoding='utf-8') as f:\n",
        "    tokenizer_json = f.read()\n",
        "    tokenizer = tokenizer_from_json(tokenizer_json)\n",
        "# Convert the new data to sequences of integers\n",
        "new_headline_seq = tokenizer.texts_to_sequences([new_headline])[0]\n",
        "# Pad the sequences to have the same length\n",
        "new_headline_seq = pad_sequences([new_headline_seq], maxlen=MAX_SEQUENCE_LENGTH)\n",
        "\n",
        "with open('tokenizer_body.json', 'r', encoding='utf-8') as f:\n",
        "    tokenizer_json = f.read()\n",
        "    tokenizer = tokenizer_from_json(tokenizer_json)\n",
        "new_article_seq = tokenizer.texts_to_sequences([new_article])[0]\n",
        "new_article_seq = pad_sequences([new_article_seq], maxlen=MAX_SEQUENCE_LENGTH)\n",
        "\n",
        "# Preprocess the new data (assume new_headline and new_article are already preprocessed)\n",
        "new_data = [new_headline_seq, new_article_seq]\n",
        "# Make predictions\n",
        "y_pred = model.predict(new_data)\n",
        "\n",
        "# Get the predicted class\n",
        "predicted_class = np.argmax(y_pred)\n",
        "\n",
        "# Get the predicted probability for each class\n",
        "predicted_probabilities = y_pred[0]\n",
        "\n",
        "# Print the predicted class and probability for each class\n",
        "print(\"Predicted class: \", predicted_class)\n",
        "print(\"Predicted probabilities: \", predicted_probabilities)\n"
      ],
      "metadata": {
        "id": "FxVQ0BASXqVg",
        "colab": {
          "base_uri": "https://localhost:8080/"
        },
        "outputId": "02c3f370-26ff-4f44-f08b-f72ad921148c"
      },
      "execution_count": null,
      "outputs": [
        {
          "output_type": "stream",
          "name": "stdout",
          "text": [
            "1/1 [==============================] - 0s 22ms/step\n",
            "Predicted class:  3\n",
            "Predicted probabilities:  [0.26960257 0.04114856 0.08013908 0.6091097 ]\n"
          ]
        }
      ]
    },
    {
      "cell_type": "markdown",
      "metadata": {
        "id": "EAaX9JY3YBE6"
      },
      "source": [
        "## BERT Implementation\n",
        "\n",
        "BERT is a advanced pre-trained word embedding model based on transformer encoded architecture. We utilize BERT as a sentence encoder, which can accurately get the context representation of a sentence. BERT removes the unidirectional constraint using a mask language model (MLM). It randomly masks some of the tokens from the input and predicts the original vocabulary id of the masked word based only. MLM has increased the capability of BERT to outperforms as compared to previous embedding methods. It is a deeply bidirectional system that is capable of handling the unlabelled text by jointly conditioning on both left and right context in all layers. In this research, we have extracted embeddings for a sentence or a set of words or pooling the sequence of hidden-states for the whole input sequence. A deep bidirectional model is more powerful than a shallow left-to-right and right-to-left model."
      ]
    },
    {
      "cell_type": "code",
      "execution_count": null,
      "metadata": {
        "id": "YTHrkpz7YExM"
      },
      "outputs": [],
      "source": [
        "!pip install transformers\n"
      ]
    },
    {
      "cell_type": "code",
      "execution_count": 2,
      "metadata": {
        "id": "eOx9WXlkYJW0"
      },
      "outputs": [],
      "source": [
        "import pandas as pd\n",
        "import numpy as np\n",
        "import torch\n",
        "from torch.utils.data import TensorDataset, DataLoader, RandomSampler, SequentialSampler\n",
        "from transformers import BertTokenizer, BertForSequenceClassification, AdamW, get_linear_schedule_with_warmup\n",
        "from sklearn.model_selection import train_test_split\n",
        "from sklearn.metrics import f1_score, accuracy_score\n"
      ]
    },
    {
      "cell_type": "code",
      "execution_count": 3,
      "metadata": {
        "id": "P1znUssmbBRi"
      },
      "outputs": [],
      "source": [
        "# Load the data into a Pandas dataframe.\n",
        "df_content = pd.read_csv('train_bodies.csv')\n",
        "df_headline = pd.read_csv('train_stances.csv')\n"
      ]
    },
    {
      "cell_type": "code",
      "execution_count": 4,
      "metadata": {
        "id": "Npez6SYLbfq9"
      },
      "outputs": [],
      "source": [
        "df = pd.merge(df_content, df_headline, on=\"Body ID\")"
      ]
    },
    {
      "cell_type": "code",
      "execution_count": 5,
      "metadata": {
        "colab": {
          "base_uri": "https://localhost:8080/",
          "height": 659
        },
        "id": "ljgqsidsbsRE",
        "outputId": "e65a1a0e-db35-4409-8b06-21c28dfee07f"
      },
      "outputs": [
        {
          "output_type": "execute_result",
          "data": {
            "text/plain": [
              "       Body ID                                        articleBody  \\\n",
              "0            0  A small meteorite crashed into a wooded area i...   \n",
              "1            0  A small meteorite crashed into a wooded area i...   \n",
              "2            0  A small meteorite crashed into a wooded area i...   \n",
              "3            0  A small meteorite crashed into a wooded area i...   \n",
              "4            0  A small meteorite crashed into a wooded area i...   \n",
              "...        ...                                                ...   \n",
              "49967     2532  ANN ARBOR, Mich. – A pizza delivery man in Mic...   \n",
              "49968     2532  ANN ARBOR, Mich. – A pizza delivery man in Mic...   \n",
              "49969     2532  ANN ARBOR, Mich. – A pizza delivery man in Mic...   \n",
              "49970     2532  ANN ARBOR, Mich. – A pizza delivery man in Mic...   \n",
              "49971     2532  ANN ARBOR, Mich. – A pizza delivery man in Mic...   \n",
              "\n",
              "                                                Headline     Stance  \n",
              "0      Soldier shot, Parliament locked down after gun...  unrelated  \n",
              "1      Tourist dubbed ‘Spider Man’ after spider burro...  unrelated  \n",
              "2      Luke Somers 'killed in failed rescue attempt i...  unrelated  \n",
              "3       BREAKING: Soldier shot at War Memorial in Ottawa  unrelated  \n",
              "4      Giant 8ft 9in catfish weighing 19 stone caught...  unrelated  \n",
              "...                                                  ...        ...  \n",
              "49967  Pizza delivery man gets tipped more than $2,00...      agree  \n",
              "49968                 Pizza delivery man gets $2,000 tip      agree  \n",
              "49969   Luckiest Pizza Delivery Guy Ever Gets $2,000 Tip      agree  \n",
              "49970  Ann Arbor pizza delivery driver surprised with...      agree  \n",
              "49971  Ann Arbor pizza delivery driver surprised with...      agree  \n",
              "\n",
              "[49972 rows x 4 columns]"
            ],
            "text/html": [
              "\n",
              "  <div id=\"df-365a514d-67ff-448d-9c6b-aede563ada11\">\n",
              "    <div class=\"colab-df-container\">\n",
              "      <div>\n",
              "<style scoped>\n",
              "    .dataframe tbody tr th:only-of-type {\n",
              "        vertical-align: middle;\n",
              "    }\n",
              "\n",
              "    .dataframe tbody tr th {\n",
              "        vertical-align: top;\n",
              "    }\n",
              "\n",
              "    .dataframe thead th {\n",
              "        text-align: right;\n",
              "    }\n",
              "</style>\n",
              "<table border=\"1\" class=\"dataframe\">\n",
              "  <thead>\n",
              "    <tr style=\"text-align: right;\">\n",
              "      <th></th>\n",
              "      <th>Body ID</th>\n",
              "      <th>articleBody</th>\n",
              "      <th>Headline</th>\n",
              "      <th>Stance</th>\n",
              "    </tr>\n",
              "  </thead>\n",
              "  <tbody>\n",
              "    <tr>\n",
              "      <th>0</th>\n",
              "      <td>0</td>\n",
              "      <td>A small meteorite crashed into a wooded area i...</td>\n",
              "      <td>Soldier shot, Parliament locked down after gun...</td>\n",
              "      <td>unrelated</td>\n",
              "    </tr>\n",
              "    <tr>\n",
              "      <th>1</th>\n",
              "      <td>0</td>\n",
              "      <td>A small meteorite crashed into a wooded area i...</td>\n",
              "      <td>Tourist dubbed ‘Spider Man’ after spider burro...</td>\n",
              "      <td>unrelated</td>\n",
              "    </tr>\n",
              "    <tr>\n",
              "      <th>2</th>\n",
              "      <td>0</td>\n",
              "      <td>A small meteorite crashed into a wooded area i...</td>\n",
              "      <td>Luke Somers 'killed in failed rescue attempt i...</td>\n",
              "      <td>unrelated</td>\n",
              "    </tr>\n",
              "    <tr>\n",
              "      <th>3</th>\n",
              "      <td>0</td>\n",
              "      <td>A small meteorite crashed into a wooded area i...</td>\n",
              "      <td>BREAKING: Soldier shot at War Memorial in Ottawa</td>\n",
              "      <td>unrelated</td>\n",
              "    </tr>\n",
              "    <tr>\n",
              "      <th>4</th>\n",
              "      <td>0</td>\n",
              "      <td>A small meteorite crashed into a wooded area i...</td>\n",
              "      <td>Giant 8ft 9in catfish weighing 19 stone caught...</td>\n",
              "      <td>unrelated</td>\n",
              "    </tr>\n",
              "    <tr>\n",
              "      <th>...</th>\n",
              "      <td>...</td>\n",
              "      <td>...</td>\n",
              "      <td>...</td>\n",
              "      <td>...</td>\n",
              "    </tr>\n",
              "    <tr>\n",
              "      <th>49967</th>\n",
              "      <td>2532</td>\n",
              "      <td>ANN ARBOR, Mich. – A pizza delivery man in Mic...</td>\n",
              "      <td>Pizza delivery man gets tipped more than $2,00...</td>\n",
              "      <td>agree</td>\n",
              "    </tr>\n",
              "    <tr>\n",
              "      <th>49968</th>\n",
              "      <td>2532</td>\n",
              "      <td>ANN ARBOR, Mich. – A pizza delivery man in Mic...</td>\n",
              "      <td>Pizza delivery man gets $2,000 tip</td>\n",
              "      <td>agree</td>\n",
              "    </tr>\n",
              "    <tr>\n",
              "      <th>49969</th>\n",
              "      <td>2532</td>\n",
              "      <td>ANN ARBOR, Mich. – A pizza delivery man in Mic...</td>\n",
              "      <td>Luckiest Pizza Delivery Guy Ever Gets $2,000 Tip</td>\n",
              "      <td>agree</td>\n",
              "    </tr>\n",
              "    <tr>\n",
              "      <th>49970</th>\n",
              "      <td>2532</td>\n",
              "      <td>ANN ARBOR, Mich. – A pizza delivery man in Mic...</td>\n",
              "      <td>Ann Arbor pizza delivery driver surprised with...</td>\n",
              "      <td>agree</td>\n",
              "    </tr>\n",
              "    <tr>\n",
              "      <th>49971</th>\n",
              "      <td>2532</td>\n",
              "      <td>ANN ARBOR, Mich. – A pizza delivery man in Mic...</td>\n",
              "      <td>Ann Arbor pizza delivery driver surprised with...</td>\n",
              "      <td>agree</td>\n",
              "    </tr>\n",
              "  </tbody>\n",
              "</table>\n",
              "<p>49972 rows × 4 columns</p>\n",
              "</div>\n",
              "      <button class=\"colab-df-convert\" onclick=\"convertToInteractive('df-365a514d-67ff-448d-9c6b-aede563ada11')\"\n",
              "              title=\"Convert this dataframe to an interactive table.\"\n",
              "              style=\"display:none;\">\n",
              "        \n",
              "  <svg xmlns=\"http://www.w3.org/2000/svg\" height=\"24px\"viewBox=\"0 0 24 24\"\n",
              "       width=\"24px\">\n",
              "    <path d=\"M0 0h24v24H0V0z\" fill=\"none\"/>\n",
              "    <path d=\"M18.56 5.44l.94 2.06.94-2.06 2.06-.94-2.06-.94-.94-2.06-.94 2.06-2.06.94zm-11 1L8.5 8.5l.94-2.06 2.06-.94-2.06-.94L8.5 2.5l-.94 2.06-2.06.94zm10 10l.94 2.06.94-2.06 2.06-.94-2.06-.94-.94-2.06-.94 2.06-2.06.94z\"/><path d=\"M17.41 7.96l-1.37-1.37c-.4-.4-.92-.59-1.43-.59-.52 0-1.04.2-1.43.59L10.3 9.45l-7.72 7.72c-.78.78-.78 2.05 0 2.83L4 21.41c.39.39.9.59 1.41.59.51 0 1.02-.2 1.41-.59l7.78-7.78 2.81-2.81c.8-.78.8-2.07 0-2.86zM5.41 20L4 18.59l7.72-7.72 1.47 1.35L5.41 20z\"/>\n",
              "  </svg>\n",
              "      </button>\n",
              "      \n",
              "  <style>\n",
              "    .colab-df-container {\n",
              "      display:flex;\n",
              "      flex-wrap:wrap;\n",
              "      gap: 12px;\n",
              "    }\n",
              "\n",
              "    .colab-df-convert {\n",
              "      background-color: #E8F0FE;\n",
              "      border: none;\n",
              "      border-radius: 50%;\n",
              "      cursor: pointer;\n",
              "      display: none;\n",
              "      fill: #1967D2;\n",
              "      height: 32px;\n",
              "      padding: 0 0 0 0;\n",
              "      width: 32px;\n",
              "    }\n",
              "\n",
              "    .colab-df-convert:hover {\n",
              "      background-color: #E2EBFA;\n",
              "      box-shadow: 0px 1px 2px rgba(60, 64, 67, 0.3), 0px 1px 3px 1px rgba(60, 64, 67, 0.15);\n",
              "      fill: #174EA6;\n",
              "    }\n",
              "\n",
              "    [theme=dark] .colab-df-convert {\n",
              "      background-color: #3B4455;\n",
              "      fill: #D2E3FC;\n",
              "    }\n",
              "\n",
              "    [theme=dark] .colab-df-convert:hover {\n",
              "      background-color: #434B5C;\n",
              "      box-shadow: 0px 1px 3px 1px rgba(0, 0, 0, 0.15);\n",
              "      filter: drop-shadow(0px 1px 2px rgba(0, 0, 0, 0.3));\n",
              "      fill: #FFFFFF;\n",
              "    }\n",
              "  </style>\n",
              "\n",
              "      <script>\n",
              "        const buttonEl =\n",
              "          document.querySelector('#df-365a514d-67ff-448d-9c6b-aede563ada11 button.colab-df-convert');\n",
              "        buttonEl.style.display =\n",
              "          google.colab.kernel.accessAllowed ? 'block' : 'none';\n",
              "\n",
              "        async function convertToInteractive(key) {\n",
              "          const element = document.querySelector('#df-365a514d-67ff-448d-9c6b-aede563ada11');\n",
              "          const dataTable =\n",
              "            await google.colab.kernel.invokeFunction('convertToInteractive',\n",
              "                                                     [key], {});\n",
              "          if (!dataTable) return;\n",
              "\n",
              "          const docLinkHtml = 'Like what you see? Visit the ' +\n",
              "            '<a target=\"_blank\" href=https://colab.research.google.com/notebooks/data_table.ipynb>data table notebook</a>'\n",
              "            + ' to learn more about interactive tables.';\n",
              "          element.innerHTML = '';\n",
              "          dataTable['output_type'] = 'display_data';\n",
              "          await google.colab.output.renderOutput(dataTable, element);\n",
              "          const docLink = document.createElement('div');\n",
              "          docLink.innerHTML = docLinkHtml;\n",
              "          element.appendChild(docLink);\n",
              "        }\n",
              "      </script>\n",
              "    </div>\n",
              "  </div>\n",
              "  "
            ]
          },
          "metadata": {},
          "execution_count": 5
        }
      ],
      "source": [
        "df"
      ]
    },
    {
      "cell_type": "code",
      "execution_count": 6,
      "metadata": {
        "colab": {
          "base_uri": "https://localhost:8080/",
          "height": 641
        },
        "id": "EPckc0LJcfwY",
        "outputId": "2560532a-007d-4db1-e1a6-131cb05896de"
      },
      "outputs": [
        {
          "output_type": "execute_result",
          "data": {
            "text/plain": [
              "                                             articleBody  \\\n",
              "0      A small meteorite crashed into a wooded area i...   \n",
              "1      A small meteorite crashed into a wooded area i...   \n",
              "2      A small meteorite crashed into a wooded area i...   \n",
              "3      A small meteorite crashed into a wooded area i...   \n",
              "4      A small meteorite crashed into a wooded area i...   \n",
              "...                                                  ...   \n",
              "49967  ANN ARBOR, Mich. – A pizza delivery man in Mic...   \n",
              "49968  ANN ARBOR, Mich. – A pizza delivery man in Mic...   \n",
              "49969  ANN ARBOR, Mich. – A pizza delivery man in Mic...   \n",
              "49970  ANN ARBOR, Mich. – A pizza delivery man in Mic...   \n",
              "49971  ANN ARBOR, Mich. – A pizza delivery man in Mic...   \n",
              "\n",
              "                                                Headline  \n",
              "0      Soldier shot, Parliament locked down after gun...  \n",
              "1      Tourist dubbed ‘Spider Man’ after spider burro...  \n",
              "2      Luke Somers 'killed in failed rescue attempt i...  \n",
              "3       BREAKING: Soldier shot at War Memorial in Ottawa  \n",
              "4      Giant 8ft 9in catfish weighing 19 stone caught...  \n",
              "...                                                  ...  \n",
              "49967  Pizza delivery man gets tipped more than $2,00...  \n",
              "49968                 Pizza delivery man gets $2,000 tip  \n",
              "49969   Luckiest Pizza Delivery Guy Ever Gets $2,000 Tip  \n",
              "49970  Ann Arbor pizza delivery driver surprised with...  \n",
              "49971  Ann Arbor pizza delivery driver surprised with...  \n",
              "\n",
              "[49972 rows x 2 columns]"
            ],
            "text/html": [
              "\n",
              "  <div id=\"df-7fd4f702-e2b8-4ec6-8b55-068c81a3ef99\">\n",
              "    <div class=\"colab-df-container\">\n",
              "      <div>\n",
              "<style scoped>\n",
              "    .dataframe tbody tr th:only-of-type {\n",
              "        vertical-align: middle;\n",
              "    }\n",
              "\n",
              "    .dataframe tbody tr th {\n",
              "        vertical-align: top;\n",
              "    }\n",
              "\n",
              "    .dataframe thead th {\n",
              "        text-align: right;\n",
              "    }\n",
              "</style>\n",
              "<table border=\"1\" class=\"dataframe\">\n",
              "  <thead>\n",
              "    <tr style=\"text-align: right;\">\n",
              "      <th></th>\n",
              "      <th>articleBody</th>\n",
              "      <th>Headline</th>\n",
              "    </tr>\n",
              "  </thead>\n",
              "  <tbody>\n",
              "    <tr>\n",
              "      <th>0</th>\n",
              "      <td>A small meteorite crashed into a wooded area i...</td>\n",
              "      <td>Soldier shot, Parliament locked down after gun...</td>\n",
              "    </tr>\n",
              "    <tr>\n",
              "      <th>1</th>\n",
              "      <td>A small meteorite crashed into a wooded area i...</td>\n",
              "      <td>Tourist dubbed ‘Spider Man’ after spider burro...</td>\n",
              "    </tr>\n",
              "    <tr>\n",
              "      <th>2</th>\n",
              "      <td>A small meteorite crashed into a wooded area i...</td>\n",
              "      <td>Luke Somers 'killed in failed rescue attempt i...</td>\n",
              "    </tr>\n",
              "    <tr>\n",
              "      <th>3</th>\n",
              "      <td>A small meteorite crashed into a wooded area i...</td>\n",
              "      <td>BREAKING: Soldier shot at War Memorial in Ottawa</td>\n",
              "    </tr>\n",
              "    <tr>\n",
              "      <th>4</th>\n",
              "      <td>A small meteorite crashed into a wooded area i...</td>\n",
              "      <td>Giant 8ft 9in catfish weighing 19 stone caught...</td>\n",
              "    </tr>\n",
              "    <tr>\n",
              "      <th>...</th>\n",
              "      <td>...</td>\n",
              "      <td>...</td>\n",
              "    </tr>\n",
              "    <tr>\n",
              "      <th>49967</th>\n",
              "      <td>ANN ARBOR, Mich. – A pizza delivery man in Mic...</td>\n",
              "      <td>Pizza delivery man gets tipped more than $2,00...</td>\n",
              "    </tr>\n",
              "    <tr>\n",
              "      <th>49968</th>\n",
              "      <td>ANN ARBOR, Mich. – A pizza delivery man in Mic...</td>\n",
              "      <td>Pizza delivery man gets $2,000 tip</td>\n",
              "    </tr>\n",
              "    <tr>\n",
              "      <th>49969</th>\n",
              "      <td>ANN ARBOR, Mich. – A pizza delivery man in Mic...</td>\n",
              "      <td>Luckiest Pizza Delivery Guy Ever Gets $2,000 Tip</td>\n",
              "    </tr>\n",
              "    <tr>\n",
              "      <th>49970</th>\n",
              "      <td>ANN ARBOR, Mich. – A pizza delivery man in Mic...</td>\n",
              "      <td>Ann Arbor pizza delivery driver surprised with...</td>\n",
              "    </tr>\n",
              "    <tr>\n",
              "      <th>49971</th>\n",
              "      <td>ANN ARBOR, Mich. – A pizza delivery man in Mic...</td>\n",
              "      <td>Ann Arbor pizza delivery driver surprised with...</td>\n",
              "    </tr>\n",
              "  </tbody>\n",
              "</table>\n",
              "<p>49972 rows × 2 columns</p>\n",
              "</div>\n",
              "      <button class=\"colab-df-convert\" onclick=\"convertToInteractive('df-7fd4f702-e2b8-4ec6-8b55-068c81a3ef99')\"\n",
              "              title=\"Convert this dataframe to an interactive table.\"\n",
              "              style=\"display:none;\">\n",
              "        \n",
              "  <svg xmlns=\"http://www.w3.org/2000/svg\" height=\"24px\"viewBox=\"0 0 24 24\"\n",
              "       width=\"24px\">\n",
              "    <path d=\"M0 0h24v24H0V0z\" fill=\"none\"/>\n",
              "    <path d=\"M18.56 5.44l.94 2.06.94-2.06 2.06-.94-2.06-.94-.94-2.06-.94 2.06-2.06.94zm-11 1L8.5 8.5l.94-2.06 2.06-.94-2.06-.94L8.5 2.5l-.94 2.06-2.06.94zm10 10l.94 2.06.94-2.06 2.06-.94-2.06-.94-.94-2.06-.94 2.06-2.06.94z\"/><path d=\"M17.41 7.96l-1.37-1.37c-.4-.4-.92-.59-1.43-.59-.52 0-1.04.2-1.43.59L10.3 9.45l-7.72 7.72c-.78.78-.78 2.05 0 2.83L4 21.41c.39.39.9.59 1.41.59.51 0 1.02-.2 1.41-.59l7.78-7.78 2.81-2.81c.8-.78.8-2.07 0-2.86zM5.41 20L4 18.59l7.72-7.72 1.47 1.35L5.41 20z\"/>\n",
              "  </svg>\n",
              "      </button>\n",
              "      \n",
              "  <style>\n",
              "    .colab-df-container {\n",
              "      display:flex;\n",
              "      flex-wrap:wrap;\n",
              "      gap: 12px;\n",
              "    }\n",
              "\n",
              "    .colab-df-convert {\n",
              "      background-color: #E8F0FE;\n",
              "      border: none;\n",
              "      border-radius: 50%;\n",
              "      cursor: pointer;\n",
              "      display: none;\n",
              "      fill: #1967D2;\n",
              "      height: 32px;\n",
              "      padding: 0 0 0 0;\n",
              "      width: 32px;\n",
              "    }\n",
              "\n",
              "    .colab-df-convert:hover {\n",
              "      background-color: #E2EBFA;\n",
              "      box-shadow: 0px 1px 2px rgba(60, 64, 67, 0.3), 0px 1px 3px 1px rgba(60, 64, 67, 0.15);\n",
              "      fill: #174EA6;\n",
              "    }\n",
              "\n",
              "    [theme=dark] .colab-df-convert {\n",
              "      background-color: #3B4455;\n",
              "      fill: #D2E3FC;\n",
              "    }\n",
              "\n",
              "    [theme=dark] .colab-df-convert:hover {\n",
              "      background-color: #434B5C;\n",
              "      box-shadow: 0px 1px 3px 1px rgba(0, 0, 0, 0.15);\n",
              "      filter: drop-shadow(0px 1px 2px rgba(0, 0, 0, 0.3));\n",
              "      fill: #FFFFFF;\n",
              "    }\n",
              "  </style>\n",
              "\n",
              "      <script>\n",
              "        const buttonEl =\n",
              "          document.querySelector('#df-7fd4f702-e2b8-4ec6-8b55-068c81a3ef99 button.colab-df-convert');\n",
              "        buttonEl.style.display =\n",
              "          google.colab.kernel.accessAllowed ? 'block' : 'none';\n",
              "\n",
              "        async function convertToInteractive(key) {\n",
              "          const element = document.querySelector('#df-7fd4f702-e2b8-4ec6-8b55-068c81a3ef99');\n",
              "          const dataTable =\n",
              "            await google.colab.kernel.invokeFunction('convertToInteractive',\n",
              "                                                     [key], {});\n",
              "          if (!dataTable) return;\n",
              "\n",
              "          const docLinkHtml = 'Like what you see? Visit the ' +\n",
              "            '<a target=\"_blank\" href=https://colab.research.google.com/notebooks/data_table.ipynb>data table notebook</a>'\n",
              "            + ' to learn more about interactive tables.';\n",
              "          element.innerHTML = '';\n",
              "          dataTable['output_type'] = 'display_data';\n",
              "          await google.colab.output.renderOutput(dataTable, element);\n",
              "          const docLink = document.createElement('div');\n",
              "          docLink.innerHTML = docLinkHtml;\n",
              "          element.appendChild(docLink);\n",
              "        }\n",
              "      </script>\n",
              "    </div>\n",
              "  </div>\n",
              "  "
            ]
          },
          "metadata": {},
          "execution_count": 6
        }
      ],
      "source": [
        "feature = df[['articleBody', 'Headline']]\n",
        "feature"
      ]
    },
    {
      "cell_type": "code",
      "execution_count": 7,
      "metadata": {
        "id": "bWVtXPhliosk"
      },
      "outputs": [],
      "source": [
        "data_classes = [\"unrelated\", \"discuss\",\"disagree\",\"agree\"]\n",
        "label = df['Stance'].apply(data_classes.index)"
      ]
    },
    {
      "cell_type": "code",
      "execution_count": 8,
      "metadata": {
        "id": "sYn5wkRvHFJf"
      },
      "outputs": [],
      "source": [
        "#Test datasset\n",
        "# Load the data into a Pandas dataframe.\n",
        "df_content_test = pd.read_csv('test_bodies.csv')\n",
        "df_headline_test = pd.read_csv('true_test_stances.csv')\n",
        "\n",
        "df_test = pd.merge(df_content_test, df_headline_test, on=\"Body ID\")\n",
        "\n",
        "feature_test = df_test[['articleBody', 'Headline']]\n",
        "\n",
        "data_classes_test = [\"unrelated\", \"discuss\",\"disagree\",\"agree\"]\n",
        "labels_test = df_test['Stance'].apply(data_classes_test.index)\n"
      ]
    },
    {
      "cell_type": "code",
      "execution_count": null,
      "metadata": {
        "id": "wK6V3bmnYMh0"
      },
      "outputs": [],
      "source": [
        "# Split the data into train and test sets.\n",
        "train_text, val_text, train_labels, val_labels = train_test_split(feature.iloc[:40000], label.iloc[:40000], test_size=0.2, random_state=42)\n",
        "\n",
        "# Load the BERT tokenizer.\n",
        "tokenizer = BertTokenizer.from_pretrained('bert-base-uncased', do_lower_case=True)\n",
        "\n",
        "# Tokenize the text inputs.\n",
        "train_tokens = tokenizer.batch_encode_plus(\n",
        "    train_text.values.tolist(),\n",
        "    max_length = 512,\n",
        "    padding=True,\n",
        "    truncation=True\n",
        ")\n",
        "\n",
        "test_tokens = tokenizer.batch_encode_plus(\n",
        "    feature_test.values.tolist(),\n",
        "    max_length = 512,\n",
        "    padding=True,\n",
        "    truncation=True\n",
        ")\n",
        "\n",
        "# Convert the tokenized inputs to PyTorch tensors.\n",
        "train_seq = torch.tensor(train_tokens['input_ids'])\n",
        "train_mask = torch.tensor(train_tokens['attention_mask'])\n",
        "train_y = torch.tensor(train_labels.tolist())\n",
        "\n",
        "test_seq = torch.tensor(test_tokens['input_ids'])\n",
        "test_mask = torch.tensor(test_tokens['attention_mask'])\n",
        "test_y = torch.tensor(labels_test.values.tolist())\n",
        "\n",
        "# Create a DataLoader for our training set.\n",
        "train_data = TensorDataset(train_seq, train_mask, train_y)\n",
        "train_sampler = RandomSampler(train_data)\n",
        "train_dataloader = DataLoader(train_data, sampler=train_sampler, batch_size=16)\n",
        "\n",
        "# Create a DataLoader for our test set.\n",
        "test_data = TensorDataset(test_seq, test_mask, test_y)\n",
        "test_sampler = SequentialSampler(test_data)\n",
        "test_dataloader = DataLoader(test_data, sampler=test_sampler, batch_size=16)\n"
      ]
    },
    {
      "cell_type": "code",
      "execution_count": 10,
      "metadata": {
        "colab": {
          "base_uri": "https://localhost:8080/"
        },
        "id": "ipwnT_p-YVe-",
        "outputId": "5315d6a9-a5e2-475c-f5bb-683216775825"
      },
      "outputs": [
        {
          "output_type": "display_data",
          "data": {
            "text/plain": [
              "Downloading pytorch_model.bin:   0%|          | 0.00/440M [00:00<?, ?B/s]"
            ],
            "application/vnd.jupyter.widget-view+json": {
              "version_major": 2,
              "version_minor": 0,
              "model_id": "e1406284afa742289a8322432e0c99da"
            }
          },
          "metadata": {}
        },
        {
          "output_type": "stream",
          "name": "stderr",
          "text": [
            "Some weights of the model checkpoint at bert-base-uncased were not used when initializing BertForSequenceClassification: ['cls.predictions.decoder.weight', 'cls.predictions.transform.dense.bias', 'cls.predictions.transform.dense.weight', 'cls.seq_relationship.bias', 'cls.predictions.transform.LayerNorm.weight', 'cls.seq_relationship.weight', 'cls.predictions.bias', 'cls.predictions.transform.LayerNorm.bias']\n",
            "- This IS expected if you are initializing BertForSequenceClassification from the checkpoint of a model trained on another task or with another architecture (e.g. initializing a BertForSequenceClassification model from a BertForPreTraining model).\n",
            "- This IS NOT expected if you are initializing BertForSequenceClassification from the checkpoint of a model that you expect to be exactly identical (initializing a BertForSequenceClassification model from a BertForSequenceClassification model).\n",
            "Some weights of BertForSequenceClassification were not initialized from the model checkpoint at bert-base-uncased and are newly initialized: ['classifier.bias', 'classifier.weight']\n",
            "You should probably TRAIN this model on a down-stream task to be able to use it for predictions and inference.\n",
            "/usr/local/lib/python3.9/dist-packages/transformers/optimization.py:391: FutureWarning: This implementation of AdamW is deprecated and will be removed in a future version. Use the PyTorch implementation torch.optim.AdamW instead, or set `no_deprecation_warning=True` to disable this warning\n",
            "  warnings.warn(\n"
          ]
        }
      ],
      "source": [
        "# Load the pre-trained BERT model for sequence classification.\n",
        "model = BertForSequenceClassification.from_pretrained(\n",
        "    'bert-base-uncased',\n",
        "    num_labels = 4,\n",
        "    output_attentions = False,\n",
        "    output_hidden_states = False\n",
        ")\n",
        "\n",
        "# Define the optimizer and learning rate scheduler.\n",
        "optimizer = AdamW(model.parameters(), lr=2e-5, eps=1e-8)\n",
        "\n",
        "epochs = 3\n",
        "total_steps = len(train_dataloader) * epochs\n",
        "\n",
        "scheduler = get_linear_schedule_with_warmup(\n",
        "    optimizer,\n",
        "    num_warmup_steps = 0,\n",
        "    num_training_steps = total_steps\n",
        ")\n"
      ]
    },
    {
      "cell_type": "code",
      "execution_count": 11,
      "metadata": {
        "id": "MGINujBN63YH",
        "colab": {
          "base_uri": "https://localhost:8080/"
        },
        "outputId": "7b053562-01fa-4123-ca16-c69d449c5371"
      },
      "outputs": [
        {
          "output_type": "stream",
          "name": "stdout",
          "text": [
            "Sun Apr 16 21:53:33 2023       \n",
            "+-----------------------------------------------------------------------------+\n",
            "| NVIDIA-SMI 525.85.12    Driver Version: 525.85.12    CUDA Version: 12.0     |\n",
            "|-------------------------------+----------------------+----------------------+\n",
            "| GPU  Name        Persistence-M| Bus-Id        Disp.A | Volatile Uncorr. ECC |\n",
            "| Fan  Temp  Perf  Pwr:Usage/Cap|         Memory-Usage | GPU-Util  Compute M. |\n",
            "|                               |                      |               MIG M. |\n",
            "|===============================+======================+======================|\n",
            "|   0  Tesla T4            Off  | 00000000:00:04.0 Off |                    0 |\n",
            "| N/A   38C    P8     9W /  70W |      0MiB / 15360MiB |      0%      Default |\n",
            "|                               |                      |                  N/A |\n",
            "+-------------------------------+----------------------+----------------------+\n",
            "                                                                               \n",
            "+-----------------------------------------------------------------------------+\n",
            "| Processes:                                                                  |\n",
            "|  GPU   GI   CI        PID   Type   Process name                  GPU Memory |\n",
            "|        ID   ID                                                   Usage      |\n",
            "|=============================================================================|\n",
            "|  No running processes found                                                 |\n",
            "+-----------------------------------------------------------------------------+\n"
          ]
        }
      ],
      "source": [
        "!nvidia-smi"
      ]
    },
    {
      "cell_type": "code",
      "execution_count": 12,
      "metadata": {
        "colab": {
          "base_uri": "https://localhost:8080/"
        },
        "id": "0KVdWKMj7HfH",
        "outputId": "ede8ec4e-7c59-4565-ac3e-a5fb66592336"
      },
      "outputs": [
        {
          "output_type": "execute_result",
          "data": {
            "text/plain": [
              "True"
            ]
          },
          "metadata": {},
          "execution_count": 12
        }
      ],
      "source": [
        "import torch\n",
        "torch.cuda.is_available()"
      ]
    },
    {
      "cell_type": "code",
      "execution_count": 13,
      "metadata": {
        "colab": {
          "base_uri": "https://localhost:8080/"
        },
        "id": "_2fEeBJkYX03",
        "outputId": "85469418-e4cc-4434-81c8-04b1fba0a0bc"
      },
      "outputs": [
        {
          "output_type": "stream",
          "name": "stdout",
          "text": [
            "\n",
            "Epoch 1/3\n",
            "----------\n",
            "Average loss: 0.28\n",
            "\n",
            "Epoch 2/3\n",
            "----------\n",
            "Average loss: 0.11\n",
            "\n",
            "Epoch 3/3\n",
            "----------\n",
            "Average loss: 0.05\n"
          ]
        }
      ],
      "source": [
        "device = torch.device('cuda') if torch.cuda.is_available() else torch.device('cpu')\n",
        "\n",
        "# Set the model to the device (GPU or CPU).\n",
        "model.to(device)\n",
        "\n",
        "# Train the model.\n",
        "for epoch in range(epochs):\n",
        "    print('\\nEpoch {}/{}'.format(epoch + 1, epochs))\n",
        "    print('-' * 10)\n",
        "    \n",
        "    # Set the model to training mode.\n",
        "    model.train()\n",
        "    \n",
        "    total_loss = 0\n",
        "\n",
        "    for step, batch in enumerate(train_dataloader):\n",
        "        # Unpack the batch.\n",
        "        batch_seq, batch_mask, batch_y = batch\n",
        "        \n",
        "        # Set the batch to the device.\n",
        "        batch_seq = batch_seq.to(device)\n",
        "        batch_mask = batch_mask.to(device)\n",
        "        batch_y = batch_y.to(device)\n",
        "        \n",
        "        # Zero out any gradients.\n",
        "        model.zero_grad()\n",
        "        \n",
        "        # Perform a forward pass.\n",
        "        outputs = model(batch_seq, attention_mask=batch_mask, labels=batch_y)\n",
        "        loss = outputs[0]\n",
        "        total_loss += loss.item()\n",
        "         \n",
        "        # Perform a backward pass and optimize. \n",
        "        loss.backward()\n",
        "        torch.nn.utils.clip_grad_norm_(model.parameters(), 1.0)\n",
        "        optimizer.step()\n",
        "        scheduler.step()\n",
        "        \n",
        "    # Calculate the average loss for this epoch.\n",
        "    avg_loss = total_loss / len(train_dataloader)\n",
        "    print('Average loss: {:.2f}'.format(avg_loss))\n",
        "\n"
      ]
    },
    {
      "cell_type": "code",
      "execution_count": 15,
      "metadata": {
        "id": "6AgAUz5t52oJ",
        "colab": {
          "base_uri": "https://localhost:8080/"
        },
        "outputId": "a8534b34-3061-47ed-86f6-49eb31ea0d02"
      },
      "outputs": [
        {
          "output_type": "stream",
          "name": "stdout",
          "text": [
            "Mounted at /content/drive\n"
          ]
        }
      ],
      "source": [
        "from google.colab import drive\n",
        "drive.mount('/content/drive')"
      ]
    },
    {
      "cell_type": "code",
      "execution_count": 21,
      "metadata": {
        "id": "rhiAAcE7Ynhq",
        "colab": {
          "base_uri": "https://localhost:8080/"
        },
        "outputId": "c0be6867-6d88-4b98-ee5a-f2f86e3dd373"
      },
      "outputs": [
        {
          "output_type": "stream",
          "name": "stdout",
          "text": [
            "F1 score: 0.90\n",
            "Accuracy: 0.91\n"
          ]
        }
      ],
      "source": [
        "#Finally, we'll evaluate the model on the test set:\n",
        "\n",
        "# Set the model to evaluation mode.\n",
        "model.eval()\n",
        "\n",
        "# Create lists to store the predictions and true labels.\n",
        "preds = []\n",
        "true_labels = []\n",
        "\n",
        "# Evaluate the model on the test set.\n",
        "for batch in test_dataloader:\n",
        "    # Unpack the batch.\n",
        "    batch_seq, batch_mask, batch_y = batch\n",
        "    \n",
        "    # Set the batch to the device.\n",
        "    batch_seq = batch_seq.to(device)\n",
        "    batch_mask = batch_mask.to(device)\n",
        "    batch_y = batch_y.to(device)\n",
        "    \n",
        "    # Disable gradient calculations.\n",
        "    with torch.no_grad():\n",
        "        # Perform a forward pass.\n",
        "        outputs = model(batch_seq, attention_mask=batch_mask)\n",
        "        logits = outputs[0]\n",
        "        probs = torch.softmax(logits, dim=1)\n",
        "        preds.extend(torch.argmax(probs, dim=1).tolist())\n",
        "        true_labels.extend(batch_y.tolist())\n",
        "\n",
        "# Calculate the F1 score and accuracy on the test set.\n",
        "f1 = f1_score(true_labels, preds, average='weighted')\n",
        "acc = accuracy_score(true_labels, preds)\n",
        "\n",
        "print('F1 score: {:.2f}'.format(f1))\n",
        "print('Accuracy: {:.2f}'.format(acc))\n"
      ]
    },
    {
      "cell_type": "code",
      "source": [
        "model.save_pretrained('pretrained_model/')"
      ],
      "metadata": {
        "id": "8Qur-hD1pgMP"
      },
      "execution_count": 18,
      "outputs": []
    },
    {
      "cell_type": "code",
      "execution_count": 19,
      "metadata": {
        "id": "HQmOnGinV-kF"
      },
      "outputs": [],
      "source": [
        "!cp -r \"/content/pretrained_model\" \"/content/drive/MyDrive/fakenews_pretrain\""
      ]
    },
    {
      "cell_type": "code",
      "execution_count": 20,
      "metadata": {
        "id": "WJsZAw4kaQkj",
        "colab": {
          "base_uri": "https://localhost:8080/"
        },
        "outputId": "e0492852-c4de-4d40-c999-198c4e6b6b34"
      },
      "outputs": [
        {
          "output_type": "stream",
          "name": "stdout",
          "text": [
            "                                         articleBody  \\\n",
            "0  Path to save in drive can be found easily by c...   \n",
            "\n",
            "                                            Headline  \n",
            "0  How do I save files from Google Colab to Googl...  \n",
            "['agree']\n"
          ]
        }
      ],
      "source": [
        "# Load the BERT tokenizer.\n",
        "tokenizer = BertTokenizer.from_pretrained('bert-base-uncased', do_lower_case=True)\n",
        "unique_labels = set()\n",
        "\n",
        "tester = BertForSequenceClassification.from_pretrained('/content/drive/MyDrive/fakenews_pretrain')\n",
        "\n",
        "ids_to_labels = {0:\"unrelated\", 1:\"discuss\", 2:\"disagree\", 3:\"agree\"}\n",
        "\n",
        "data = {'articleBody':[\"Path to save in drive can be found easily by clicking files on left side, navigating to folder and right click to choose Copy path. This will save the image to folder named Delete in Google Drive.\"], 'Headline':[\"How do I save files from Google Colab to Google Drive\"]}\n",
        "df_one = pd.DataFrame(data)\n",
        "def evaluate_one_text(model, sentence):\n",
        "\n",
        "    use_cuda = torch.cuda.is_available()\n",
        "    device = torch.device(\"cuda\" if use_cuda else \"cpu\")\n",
        "\n",
        "    if use_cuda:\n",
        "        model = model.cuda()\n",
        "\n",
        "    text = tokenizer.batch_encode_plus(sentence.values.tolist(), padding='max_length', max_length = 512, truncation=True)\n",
        "\n",
        "    # Convert the tokenized inputs to PyTorch tensors.\n",
        "    input_id = torch.tensor(text['input_ids']).to(device)\n",
        "    mask = torch.tensor(text['attention_mask']).to(device)\n",
        "\n",
        "    logits = model(input_id, mask, None)\n",
        "    logits_clean = logits[0]\n",
        "\n",
        "    predictions = logits_clean.argmax(dim=1).tolist()\n",
        "    prediction_label = [ids_to_labels[i] for i in predictions]\n",
        "    print(sentence)\n",
        "    print(prediction_label)\n",
        "            \n",
        "evaluate_one_text(tester, df_one)"
      ]
    }
  ],
  "metadata": {
    "accelerator": "GPU",
    "colab": {
      "provenance": [],
      "collapsed_sections": [
        "iT9gtlpUss5A",
        "iU-D3t1WADy5",
        "EAaX9JY3YBE6",
        "i-6Tn2XJCF0n"
      ]
    },
    "gpuClass": "standard",
    "kernelspec": {
      "display_name": "Python 3",
      "name": "python3"
    },
    "language_info": {
      "name": "python"
    }
  },
  "nbformat": 4,
  "nbformat_minor": 0
}